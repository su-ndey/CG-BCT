{
 "cells": [
  {
   "cell_type": "markdown",
   "metadata": {},
   "source": [
    "Algorithm of Digital Differential Analyzer DDA\n",
    "\n",
    "1 Input the starting and reading coordinates of the line.(x1,y1) and (x2,y2).\n",
    "\n",
    "2 Calculate the differences:\n",
    "    dx= x2-x1\n",
    "    dy= y2-y1\n",
    "\n",
    "3 Determine the number of steps:\n",
    "    steps= max(|dx|,|dy|)\n",
    "\n",
    "4 Calculate the increments for each steps:\n",
    "    xincrement= dx/steps\n",
    "    yincrement= dy/steps\n",
    "\n",
    "5 Initialize the starting point:\n",
    "    x= x1\n",
    "    y= y1\n",
    "\n",
    "6 Iterate through the nummber of steps:\n",
    "    Plot the point(round(x),round(y)).\n",
    "    Increment:\n",
    "        x= x+xincrement\n",
    "        y= y+yincrement\n",
    "\n",
    "7 Stop once all steps are plotted."
   ]
  }
 ],
 "metadata": {
  "language_info": {
   "name": "python"
  }
 },
 "nbformat": 4,
 "nbformat_minor": 2
}
