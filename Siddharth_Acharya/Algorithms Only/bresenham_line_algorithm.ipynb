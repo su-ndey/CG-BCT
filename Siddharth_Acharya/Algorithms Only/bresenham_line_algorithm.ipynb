{
 "cells": [
  {
   "cell_type": "markdown",
   "metadata": {},
   "source": [
    "# Bresenham's Line Drawing Algorithm\n",
    "\n",
    "Bresenham's Line Algorithm is a method used to draw a straight line between two points on a grid, using only integer calculations. It avoids floating-point operations, making it fast and efficient for raster graphics. The algorithm determines which points to plot based on a decision parameter, which is updated at each step.\n",
    "\n",
    "### 1. **Input Parameters**\n",
    "- **Starting Point** `(x1, y1)`\n",
    "- **Ending Point** `(x2, y2)`\n",
    "\n",
    "### 2. **Calculate Differences**\n",
    "- Compute the differences in the x and y directions:\n",
    "  - `dx = |x2 - x1|`\n",
    "  - `dy = |y2 - y1|`\n",
    "\n",
    "### 3. **Determine Step Directions**\n",
    "- The steps for moving in the x and y directions are determined based on the relative positions of the starting and ending points:\n",
    "  - `sx = 1` if `x2 > x1`, otherwise `sx = -1`\n",
    "  - `sy = 1` if `y2 > y1`, otherwise `sy = -1`\n",
    "\n",
    "### 4. **Decision Parameter Initialization**\n",
    "- A decision parameter `p` is used to decide the next point on the line:\n",
    "  - If `dx >= dy` (shallow slope, where the line has a slope of `|m| ≤ 1`):\n",
    "    - The initial decision parameter `p = 2 * dy - dx`\n",
    "    - Iterate over `x` from `x1` to `x2`, updating `y` based on `p`.\n",
    "  - If `dx < dy` (steep slope, where the line has a slope of `|m| > 1`):\n",
    "    - The initial decision parameter `p = 2 * dx - dy`\n",
    "    - Iterate over `y` from `y1` to `y2`, updating `x` based on `p`.\n",
    "\n",
    "### 5. **Updating the Decision Parameter**\n",
    "- **For shallow slopes** (`dx >= dy`):\n",
    "  - If `p >= 0`, move diagonally (`x` and `y` both increase by their respective steps).\n",
    "  - Otherwise, move horizontally (`x` increases by its step).\n",
    "  - Update the decision parameter `p` accordingly.\n",
    "  \n",
    "- **For steep slopes** (`dx < dy`):\n",
    "  - If `p >= 0`, move diagonally (`x` and `y` both increase by their respective steps).\n",
    "  - Otherwise, move vertically (`y` increases by its step).\n",
    "  - Update the decision parameter `p` accordingly.\n",
    "\n",
    "### 6. **Plotting**\n",
    "- Once the points are calculated, they are plotted on a 2D grid with `x_list` and `y_list` representing the x and y coordinates of the points on the line.\n",
    "- The line is drawn using markers (`'o'`) and a blue color, with labels and a grid for clarity.\n",
    "\n",
    "### 7. **Termination**\n",
    "- The algorithm terminates once all points between the starting and ending points have been plotted.\n",
    "- The result is a straight line on a grid, calculated efficiently without the need for floating-point arithmetic.\n",
    "\n",
    "### 8. **Outcome**\n",
    "- The plot displays the points that make up the line, providing a visual representation of the Bresenham's Line Algorithm.\n",
    "\n",
    "This method is widely used in computer graphics for drawing lines on raster displays with fast execution and minimal computational resources.\n",
    "\n"
   ]
  },
  {
   "cell_type": "markdown",
   "metadata": {},
   "source": []
  }
 ],
 "metadata": {
  "language_info": {
   "name": "python"
  }
 },
 "nbformat": 4,
 "nbformat_minor": 2
}
