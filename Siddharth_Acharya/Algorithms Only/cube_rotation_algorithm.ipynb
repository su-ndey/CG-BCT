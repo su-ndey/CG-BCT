{
 "cells": [
  {
   "cell_type": "markdown",
   "metadata": {},
   "source": [
    "# 3D Rotation Around an Arbitrary Axis\n",
    "\n",
    "## Step 1: Input Coordinates\n",
    "The program takes the following inputs from the user:\n",
    "- Coordinates of two points `(x1, y1, z1)` and `(x2, y2, z2)` defining the axis of rotation.\n",
    "- An angle `theta` in degrees to specify the amount of rotation.\n",
    "\n",
    "## Step 2: Compute Distance and Direction Cosines\n",
    "- The program calculates the distance `v` between the two input points using the Euclidean distance formula:\n",
    "  \\[\n",
    "  v = \\sqrt{(x2 - x1)^2 + (y2 - y1)^2 + (z2 - z1)^2}\n",
    "  \\]\n",
    "- Direction cosines `a`, `b`, and `c` are calculated as:\n",
    "  - \\( a = \\frac{x2 - x1}{v} \\)\n",
    "  - \\( b = \\frac{y2 - y1}{v} \\)\n",
    "  - \\( c = \\frac{z2 - z1}{v} \\)\n",
    "- Additional intermediate values are computed to construct the rotation matrices.\n",
    "\n",
    "## Step 3: Construct Transformation Matrices\n",
    "Several transformation matrices are created to perform the rotation:\n",
    "1. **Translation to the Origin:**\n",
    "   Moves the initial point `(x1, y1, z1)` to the origin.\n",
    "2. **Rotation Matrices:**\n",
    "   - `irx`: Rotation around the x-axis.\n",
    "   - `iry`: Rotation around the y-axis.\n",
    "   - `rz`: Rotation around the arbitrary axis defined by the direction cosines.\n",
    "3. **Translation Back from the Origin:**\n",
    "   Moves the object back to its original position after rotation.\n",
    "\n",
    "## Step 4: Apply Transformation\n",
    "The composite transformation matrix `CM` is computed by multiplying the translation and rotation matrices:\n",
    "\\[\n",
    "CM = it \\times irx \\times iry \\times rz \\times ry \\times rx \\times t\n",
    "\\]\n",
    "This matrix is then applied to the vertices of a cube to perform the rotation.\n",
    "\n",
    "## Step 5: Define Cube Vertices and Edges\n",
    "The cube is defined by 8 vertices and 12 edges:\n",
    "- Vertices:\n",
    "  \\[\n",
    "  (0, 0, 0), (1, 0, 0), (1, 1, 0), (0, 1, 0), (0, 0, 1), (1, 0, 1), (1, 1, 1), (0, 1, 1)\n",
    "  \\]\n",
    "- Edges are defined as pairs of vertex indices.\n",
    "\n",
    "## Step 6: Plotting\n",
    "- The cube is plotted in 3D before and after the rotation.\n",
    "- The axis of rotation is shown as a dashed red line.\n",
    "- The original cube is plotted in one subplot, and the rotated cube in another.\n",
    "\n",
    "## Step 7: Output\n",
    "- Two 3D plots are displayed:\n",
    "  - One showing the original cube.\n",
    "  - One showing the rotated cube after applying the transformation.\n",
    "\n",
    "## Visualization\n"
   ]
  },
  {
   "cell_type": "markdown",
   "metadata": {},
   "source": []
  }
 ],
 "metadata": {
  "language_info": {
   "name": "python"
  }
 },
 "nbformat": 4,
 "nbformat_minor": 2
}
