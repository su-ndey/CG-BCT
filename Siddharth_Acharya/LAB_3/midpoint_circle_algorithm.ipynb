{
 "cells": [
  {
   "cell_type": "markdown",
   "metadata": {},
   "source": [
    "# Midpoint Circle Algorithm\n",
    "\n",
    "The **Midpoint Circle Algorithm** is an efficient method for generating a circle using integer arithmetic, making it suitable for computer graphics. This algorithm takes advantage of the circle's symmetry to minimize calculations.\n",
    "\n",
    "### 1. **Initialization**\n",
    "- The circle is defined by its **center** `(xc, yc)` and **radius** `r`.\n",
    "- The starting point is at `(0, r)` on the top of the circle.\n",
    "- A decision parameter `p` is initialized as `1 - r`. This parameter helps in deciding whether to move horizontally or diagonally to the next point.\n",
    "\n",
    "### 2. **Symmetry of the Circle**\n",
    "- A circle is symmetric in all eight octants (sections), meaning the points in one octant can be reflected to other octants.\n",
    "- The algorithm calculates one point in the first octant and then reflects it to the other seven octants. This reduces the number of calculations and makes the algorithm efficient.\n",
    "\n",
    "### 3. **Decision Parameter Update**\n",
    "- The decision parameter `p` helps decide whether the next point is horizontally or diagonally adjacent:\n",
    "  - If `p < 0`, the next point is horizontally adjacent to the current point, so `x` is incremented by 1.\n",
    "  - If `p >= 0`, the next point is diagonally adjacent, so both `x` and `y` are adjusted.\n",
    "- After each decision, the decision parameter `p` is updated based on whether the next point is horizontal or diagonal.\n",
    "\n",
    "### 4. **Adding Symmetric Points**\n",
    "- For each calculated point `(x, y)`, its symmetric points are added in the other seven octants. This ensures that the entire circle is drawn with minimal calculations.\n",
    "\n",
    "### 5. **Termination**\n",
    "- The algorithm continues the process until `x >= y`, which means the points cover the entire circle.\n",
    "\n",
    "### 6. **Plotting**\n",
    "- Finally, the points `(x, y)` are plotted, along with their reflections in other octants, to complete the circle.\n",
    "\n",
    "### Benefits:\n",
    "- The Midpoint Circle Algorithm reduces floating-point operations by using integer calculations for decision-making.\n",
    "- The use of symmetry makes it efficient, requiring fewer points to be computed.\n",
    "\n",
    "This algorithm is widely used in graphics software for rendering circles with high performance.\n"
   ]
  }
 ],
 "metadata": {
  "language_info": {
   "name": "python"
  }
 },
 "nbformat": 4,
 "nbformat_minor": 2
}
