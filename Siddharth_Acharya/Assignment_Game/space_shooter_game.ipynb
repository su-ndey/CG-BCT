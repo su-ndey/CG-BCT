{
 "cells": [
  {
   "cell_type": "markdown",
   "id": "f73b8624",
   "metadata": {},
   "source": [
    "### Importing Libraries and Setting Up"
   ]
  },
  {
   "cell_type": "code",
   "execution_count": 2,
   "id": "7b11a370",
   "metadata": {},
   "outputs": [
    {
     "name": "stdout",
     "output_type": "stream",
     "text": [
      "pygame 2.6.1 (SDL 2.28.4, Python 3.11.9)\n",
      "Hello from the pygame community. https://www.pygame.org/contribute.html\n"
     ]
    },
    {
     "data": {
      "text/plain": [
       "(5, 0)"
      ]
     },
     "execution_count": 2,
     "metadata": {},
     "output_type": "execute_result"
    }
   ],
   "source": [
    "\n",
    "import pygame\n",
    "import random\n",
    "import sys\n",
    "import os\n",
    "\n",
    "# Set the working directory to the script's location\n",
    "# Set the working directory to a specific path\n",
    "os.chdir(\"C:\\\\Projects\\\\3rd_sem_graphics\")\n",
    "\n",
    "\n",
    "# Initialize pygame\n",
    "pygame.init()\n"
   ]
  },
  {
   "cell_type": "markdown",
   "id": "3e5dbad1",
   "metadata": {},
   "source": [
    "## Importing Required Libraries\n",
    "\n",
    "The code begins by importing several Python libraries that are necessary for the game to function:\n",
    "\n",
    "- `pygame`: This is a popular library used for creating games. It provides functionalities like creating windows, handling graphics, managing user inputs, and more.\n",
    "- `random`: This library is used for generating random numbers, which is useful for randomizing enemy positions, power-ups, and other game elements.\n",
    "- `sys`: The sys library allows us to interact with the Python runtime environment. It will be used here to terminate the game when needed.\n",
    "- `os`: The os library provides functions to interact with the operating system. In this case, it is used to change the working directory to the location of the script.\n",
    "\n",
    "```python\n",
    "import pygame\n",
    "import random\n",
    "import sys\n",
    "import os\n"
   ]
  },
  {
   "cell_type": "markdown",
   "id": "acebad87",
   "metadata": {},
   "source": [
    "### Game Window Setup"
   ]
  },
  {
   "cell_type": "code",
   "execution_count": 3,
   "id": "707e3280",
   "metadata": {},
   "outputs": [],
   "source": [
    "\n",
    "# Screen dimensions and settings\n",
    "SCREEN_WIDTH = 800\n",
    "SCREEN_HEIGHT = 600\n",
    "screen = pygame.display.set_mode((SCREEN_WIDTH, SCREEN_HEIGHT))\n",
    "pygame.display.set_caption(\"Space Shooter Game\")\n"
   ]
  },
  {
   "cell_type": "markdown",
   "id": "58c6d9e7",
   "metadata": {},
   "source": [
    "## Screen Dimensions and Settings\n",
    "\n",
    "This section of the code defines the size of the game window and sets its title.\n",
    "\n",
    "### Defining Screen Dimensions\n",
    "\n",
    "```python\n",
    "SCREEN_WIDTH = 800\n",
    "SCREEN_HEIGHT = 600\n"
   ]
  },
  {
   "cell_type": "markdown",
   "id": "87c520a2",
   "metadata": {},
   "source": [
    "### Color and Font Definitions"
   ]
  },
  {
   "cell_type": "code",
   "execution_count": 4,
   "id": "98ff5624",
   "metadata": {},
   "outputs": [],
   "source": [
    "\n",
    "# Colors\n",
    "WHITE = (255, 255, 255)\n",
    "BLACK = (0, 0, 0)\n",
    "RED = (255, 0, 0)\n",
    "GREEN = (0, 255, 0)\n",
    "BLUE = (0, 0, 255)\n",
    "\n",
    "# Fonts\n",
    "FONT = pygame.font.Font(None, 36)\n"
   ]
  },
  {
   "cell_type": "markdown",
   "id": "1f9bfe30",
   "metadata": {},
   "source": [
    "## Colors and Fonts\n",
    "\n",
    "In this section of the code, we define colors and fonts used throughout the game. These are important for rendering text, drawing game objects, and ensuring a consistent visual theme.\n",
    "\n",
    "### Defining Colors\n",
    "\n",
    "```python\n",
    "WHITE = (255, 255, 255)\n",
    "BLACK = (0, 0, 0)\n",
    "RED = (255, 0, 0)\n",
    "GREEN = (0, 255, 0)\n",
    "BLUE = (0, 0, 255)\n"
   ]
  },
  {
   "cell_type": "markdown",
   "id": "9eefc299",
   "metadata": {},
   "source": [
    "### Game Variables Initialization"
   ]
  },
  {
   "cell_type": "code",
   "execution_count": 5,
   "id": "f11df260",
   "metadata": {},
   "outputs": [],
   "source": [
    "\n",
    "# Game variables\n",
    "player_speed = 10\n",
    "bullet_speed = 10\n",
    "enemy_speed = 2\n",
    "asteroid_speed = 2\n",
    "powerup_speed = 0.5\n",
    "level = 1\n",
    "score = 0\n",
    "lives = 10  # Set the number of lives to 10\n",
    "player_x = SCREEN_WIDTH // 2\n",
    "player_y = SCREEN_HEIGHT - 100\n",
    "bullets = []\n",
    "enemies = []\n",
    "asteroids = []\n",
    "powerups = []\n"
   ]
  },
  {
   "cell_type": "markdown",
   "id": "9df6c192",
   "metadata": {},
   "source": [
    "## Game Variables\n",
    "\n",
    "In this section, we define several game-related variables that will control aspects of gameplay such as movement speed, score, player lives, and the positions of game objects.\n",
    "\n",
    "### Player and Object Speed\n",
    "\n",
    "```python\n",
    "player_speed = 10\n",
    "bullet_speed = 10\n",
    "enemy_speed = 2\n",
    "asteroid_speed = 2\n",
    "powerup_speed = 0.5\n"
   ]
  },
  {
   "cell_type": "markdown",
   "id": "da00aec0",
   "metadata": {},
   "source": [
    "### Loading Assets"
   ]
  },
  {
   "cell_type": "code",
   "execution_count": 6,
   "id": "973bdf7d",
   "metadata": {},
   "outputs": [],
   "source": [
    "\n",
    "# Load images\n",
    "player_ship = pygame.image.load(\"fighter_plane.png\")  # Load custom image for player\n",
    "player_ship = pygame.transform.scale(player_ship, (50, 50))  # Scale it to the desired size\n",
    "\n",
    "enemy_ship = pygame.image.load(\"enemy_plane.png\")\n",
    "enemy_ship = pygame.transform.scale(enemy_ship, (40, 40))\n",
    "\n",
    "asteroid = pygame.image.load(\"asteroid.png\")\n",
    "asteroid = pygame.transform.scale(asteroid, (30, 30))\n",
    "\n",
    "powerup_item = pygame.image.load(\"powerup.png\")\n",
    "powerup_item = pygame.transform.scale(powerup_item, (20, 20))\n",
    "\n",
    "background = pygame.image.load(\"space.png\")\n",
    "background = pygame.transform.scale(background, (SCREEN_WIDTH, SCREEN_HEIGHT))\n",
    "\n",
    "# Clock object\n",
    "clock = pygame.time.Clock()\n"
   ]
  },
  {
   "cell_type": "markdown",
   "id": "d80d7629",
   "metadata": {},
   "source": [
    "## Loading Images and Setting Up the Clock\n",
    "\n",
    "This section is responsible for loading all the game assets (images for player, enemies, power-ups, etc.) and setting up the game clock for controlling the frame rate.\n",
    "\n",
    "### Load Images\n",
    "\n",
    "The following images are loaded and scaled to the appropriate size for their respective game objects:\n",
    "\n",
    "```python\n",
    "player_ship = pygame.image.load(\"fighter_plane.png\")  # Load custom image for player\n",
    "player_ship = pygame.transform.scale(player_ship, (50, 50))  # Scale it to the desired size\n"
   ]
  },
  {
   "cell_type": "markdown",
   "id": "32205f8e",
   "metadata": {},
   "source": [
    "### Utility Functions"
   ]
  },
  {
   "cell_type": "code",
   "execution_count": 7,
   "id": "96d1a283",
   "metadata": {},
   "outputs": [],
   "source": [
    "\n",
    "# Draw text\n",
    "def draw_text(text, font, color, surface, x, y):\n",
    "    text_obj = font.render(text, True, color)\n",
    "    text_rect = text_obj.get_rect(center=(x, y))\n",
    "    surface.blit(text_obj, text_rect)\n",
    "\n",
    "# Draw player\n",
    "def draw_player(x, y):\n",
    "    screen.blit(player_ship, (x, y))\n",
    "\n",
    "# Draw bullets\n",
    "def draw_bullets():\n",
    "    for bullet in bullets:\n",
    "        pygame.draw.rect(screen, WHITE, bullet)\n",
    "\n",
    "# Draw enemies\n",
    "def draw_enemies():\n",
    "    for enemy in enemies:\n",
    "        screen.blit(enemy_ship, (enemy.x, enemy.y))\n",
    "\n",
    "# Draw asteroids\n",
    "def draw_asteroids():\n",
    "    for asteroid_obj in asteroids:\n",
    "        screen.blit(asteroid, (asteroid_obj.x, asteroid_obj.y))\n",
    "\n",
    "# Draw powerups\n",
    "def draw_powerups():\n",
    "    for powerup_obj in powerups:\n",
    "        screen.blit(powerup_item, (powerup_obj.x, powerup_obj.y))\n"
   ]
  },
  {
   "cell_type": "markdown",
   "id": "3d9db9ee",
   "metadata": {},
   "source": [
    "## Drawing Game Objects on the Screen\n",
    "\n",
    "This section contains functions responsible for drawing various game elements (player, bullets, enemies, asteroids, and power-ups) on the screen. Each function uses Pygame's rendering methods to display the respective elements.\n",
    "\n",
    "### Draw Text\n",
    "```python\n",
    "def draw_text(text, font, color, surface, x, y):\n",
    "    text_obj = font.render(text, True, color)\n",
    "    text_rect = text_obj.get_rect(center=(x, y))\n",
    "    surface.blit(text_obj, text_rect)\n"
   ]
  },
  {
   "cell_type": "markdown",
   "id": "d554bf7a",
   "metadata": {},
   "source": [
    "### Gameplay Mechanics"
   ]
  },
  {
   "cell_type": "code",
   "execution_count": 8,
   "id": "6b7bda97",
   "metadata": {},
   "outputs": [],
   "source": [
    "\n",
    "# Bullet movement\n",
    "def move_bullets():\n",
    "    global score\n",
    "    for bullet in bullets[:]:\n",
    "        bullet.y -= bullet_speed\n",
    "        if bullet.y < 0:\n",
    "            bullets.remove(bullet)\n",
    "\n",
    "        # Check collision with enemies\n",
    "        for enemy in enemies[:]:\n",
    "            if bullet.colliderect(enemy):\n",
    "                score += 10\n",
    "                enemies.remove(enemy)\n",
    "                bullets.remove(bullet)\n",
    "                break\n",
    "\n",
    "        # Check collision with asteroids\n",
    "        for asteroid_obj in asteroids[:]:\n",
    "            if bullet.colliderect(asteroid_obj):\n",
    "                asteroids.remove(asteroid_obj)\n",
    "                bullets.remove(bullet)\n",
    "                break\n",
    "\n",
    "# Enemy movement\n",
    "def move_enemies():\n",
    "    global lives\n",
    "    for enemy in enemies[:]:\n",
    "        enemy.y += enemy_speed\n",
    "        if enemy.y > SCREEN_HEIGHT:\n",
    "            enemies.remove(enemy)\n",
    "            lives -= 1\n",
    "\n",
    "# Asteroid movement\n",
    "def move_asteroids():\n",
    "    global lives\n",
    "    for asteroid_obj in asteroids[:]:\n",
    "        asteroid_obj.y += asteroid_speed\n",
    "        if asteroid_obj.y > SCREEN_HEIGHT:\n",
    "            asteroids.remove(asteroid_obj)\n",
    "            lives -= 1\n",
    "\n",
    "# Power-up movement\n",
    "def move_powerups():\n",
    "    for powerup_obj in powerups[:]:\n",
    "        powerup_obj.y += powerup_speed\n",
    "        if powerup_obj.y > SCREEN_HEIGHT:\n",
    "            powerups.remove(powerup_obj)\n"
   ]
  },
  {
   "cell_type": "markdown",
   "id": "95731e23",
   "metadata": {},
   "source": [
    "## Game Object Movement\n",
    "\n",
    "These functions are responsible for updating the positions of various game objects, such as bullets, enemies, asteroids, and power-ups, based on the game's rules. They also handle interactions like collisions with other objects.\n",
    "\n",
    "### Bullet Movement\n",
    "```python\n",
    "def move_bullets():\n",
    "    global score\n",
    "    for bullet in bullets[:]:\n",
    "        bullet.y -= bullet_speed\n",
    "        if bullet.y < 0:\n",
    "            bullets.remove(bullet)\n",
    "\n",
    "        # Check collision with enemies\n",
    "        for enemy in enemies[:]:\n",
    "            if bullet.colliderect(enemy):\n",
    "                score += 10\n",
    "                enemies.remove(enemy)\n",
    "                bullets.remove(bullet)\n",
    "                break\n",
    "\n",
    "        # Check collision with asteroids\n",
    "        for asteroid_obj in asteroids[:]:\n",
    "            if bullet.colliderect(asteroid_obj):\n",
    "                asteroids.remove(asteroid_obj)\n",
    "                bullets.remove(bullet)\n",
    "                break\n"
   ]
  },
  {
   "cell_type": "markdown",
   "id": "54f56ab2",
   "metadata": {},
   "source": [
    "### Object Generation"
   ]
  },
  {
   "cell_type": "code",
   "execution_count": 9,
   "id": "ca99670a",
   "metadata": {},
   "outputs": [],
   "source": [
    "\n",
    "# Generate random enemy\n",
    "def generate_enemy():\n",
    "    enemy = pygame.Rect(random.randint(50, SCREEN_WIDTH - 50), -40, 40, 40)\n",
    "    enemies.append(enemy)\n",
    "\n",
    "# Generate random asteroid\n",
    "def generate_asteroid():\n",
    "    asteroid_obj = pygame.Rect(random.randint(50, SCREEN_WIDTH - 50), -30, 30, 30)\n",
    "    asteroids.append(asteroid_obj)\n",
    "\n",
    "# Generate random power-up\n",
    "def generate_powerup():\n",
    "    powerup_obj = pygame.Rect(random.randint(50, SCREEN_WIDTH - 50), -20, 20, 20)\n",
    "    powerups.append(powerup_obj)\n"
   ]
  },
  {
   "cell_type": "markdown",
   "id": "e4c0bccd",
   "metadata": {},
   "source": [
    "## Random Object Generation\n",
    "\n",
    "These functions are responsible for generating random game objects (enemies, asteroids, and power-ups) at random positions within the screen.\n",
    "\n",
    "### Generate Random Enemy\n",
    "```python\n",
    "def generate_enemy():\n",
    "    enemy = pygame.Rect(random.randint(50, SCREEN_WIDTH - 50), -40, 40, 40)\n",
    "    enemies.append(enemy)\n"
   ]
  },
  {
   "cell_type": "markdown",
   "id": "85e58150",
   "metadata": {},
   "source": [
    "### Game Reset"
   ]
  },
  {
   "cell_type": "code",
   "execution_count": 10,
   "id": "b3a0435e",
   "metadata": {},
   "outputs": [],
   "source": [
    "\n",
    "# Restart the game by resetting the game variables\n",
    "def restart_game():\n",
    "    global score, lives, level, player_x, bullets, enemies, asteroids, powerups\n",
    "    score = 0\n",
    "    lives = 10\n",
    "    level = 1\n",
    "    player_x = SCREEN_WIDTH // 2\n",
    "    bullets = []\n",
    "    enemies = []\n",
    "    asteroids = []\n",
    "    powerups = []\n"
   ]
  },
  {
   "cell_type": "markdown",
   "id": "6a0a0824",
   "metadata": {},
   "source": [
    "## Restart Game\n",
    "\n",
    "This function resets all the game variables to their initial values, effectively restarting the game.\n",
    "\n",
    "### Restart Game Function\n",
    "```python\n",
    "def restart_game():\n",
    "    global score, lives, level, player_x, bullets, enemies, asteroids, powerups\n",
    "    score = 0\n",
    "    lives = 10\n",
    "    level = 1\n",
    "    player_x = SCREEN_WIDTH // 2\n",
    "    bullets = []\n",
    "    enemies = []\n",
    "    asteroids = []\n",
    "    powerups = []\n"
   ]
  },
  {
   "cell_type": "markdown",
   "id": "48a995c7",
   "metadata": {},
   "source": [
    "### Main Game Loop"
   ]
  },
  {
   "cell_type": "code",
   "execution_count": 11,
   "id": "18bbcbd4",
   "metadata": {},
   "outputs": [
    {
     "ename": "ValueError",
     "evalue": "list.remove(x): x not in list",
     "output_type": "error",
     "traceback": [
      "\u001b[1;31m---------------------------------------------------------------------------\u001b[0m",
      "\u001b[1;31mValueError\u001b[0m                                Traceback (most recent call last)",
      "Cell \u001b[1;32mIn[11], line 73\u001b[0m\n\u001b[0;32m     70\u001b[0m         clock\u001b[38;5;241m.\u001b[39mtick(\u001b[38;5;241m60\u001b[39m)\n\u001b[0;32m     72\u001b[0m \u001b[38;5;28;01mif\u001b[39;00m \u001b[38;5;18m__name__\u001b[39m \u001b[38;5;241m==\u001b[39m \u001b[38;5;124m\"\u001b[39m\u001b[38;5;124m__main__\u001b[39m\u001b[38;5;124m\"\u001b[39m:\n\u001b[1;32m---> 73\u001b[0m     \u001b[43mmain\u001b[49m\u001b[43m(\u001b[49m\u001b[43m)\u001b[49m\n",
      "Cell \u001b[1;32mIn[11], line 30\u001b[0m, in \u001b[0;36mmain\u001b[1;34m()\u001b[0m\n\u001b[0;32m     27\u001b[0m     bullets\u001b[38;5;241m.\u001b[39mappend(bullet)\n\u001b[0;32m     29\u001b[0m \u001b[38;5;66;03m# Game mechanics\u001b[39;00m\n\u001b[1;32m---> 30\u001b[0m \u001b[43mmove_bullets\u001b[49m\u001b[43m(\u001b[49m\u001b[43m)\u001b[49m\n\u001b[0;32m     31\u001b[0m move_enemies()\n\u001b[0;32m     32\u001b[0m move_asteroids()\n",
      "Cell \u001b[1;32mIn[8], line 21\u001b[0m, in \u001b[0;36mmove_bullets\u001b[1;34m()\u001b[0m\n\u001b[0;32m     19\u001b[0m \u001b[38;5;28;01mif\u001b[39;00m bullet\u001b[38;5;241m.\u001b[39mcolliderect(asteroid_obj):\n\u001b[0;32m     20\u001b[0m     asteroids\u001b[38;5;241m.\u001b[39mremove(asteroid_obj)\n\u001b[1;32m---> 21\u001b[0m     bullets\u001b[38;5;241m.\u001b[39mremove(bullet)\n\u001b[0;32m     22\u001b[0m     \u001b[38;5;28;01mbreak\u001b[39;00m\n",
      "\u001b[1;31mValueError\u001b[0m: list.remove(x): x not in list"
     ]
    }
   ],
   "source": [
    "\n",
    "# Main game loop\n",
    "def main():\n",
    "    global player_x, lives, level, score, bullets\n",
    "\n",
    "    # Timer for generating new enemies and obstacles\n",
    "    enemy_timer = 0\n",
    "    asteroid_timer = 0\n",
    "    powerup_timer = 0\n",
    "\n",
    "    while True:\n",
    "        screen.blit(background, (0, 0))\n",
    "\n",
    "        # Event handling\n",
    "        for event in pygame.event.get():\n",
    "            if event.type == pygame.QUIT:\n",
    "                pygame.quit()\n",
    "                sys.exit()\n",
    "\n",
    "        # Key press handling\n",
    "        keys = pygame.key.get_pressed()\n",
    "        if keys[pygame.K_LEFT] and player_x > 0:\n",
    "            player_x -= player_speed\n",
    "        if keys[pygame.K_RIGHT] and player_x < SCREEN_WIDTH - 50:\n",
    "            player_x += player_speed\n",
    "        if keys[pygame.K_SPACE]:\n",
    "            bullet = pygame.Rect(player_x + 20, player_y, 10, 20)\n",
    "            bullets.append(bullet)\n",
    "\n",
    "        # Game mechanics\n",
    "        move_bullets()\n",
    "        move_enemies()\n",
    "        move_asteroids()\n",
    "        move_powerups()\n",
    "\n",
    "        # Generate new enemies and obstacles\n",
    "        enemy_timer += 1\n",
    "        asteroid_timer += 1\n",
    "        powerup_timer += 1\n",
    "\n",
    "        if enemy_timer > 50:\n",
    "            generate_enemy()\n",
    "            enemy_timer = 0\n",
    "        if asteroid_timer > 150:\n",
    "            generate_asteroid()\n",
    "            asteroid_timer = 0\n",
    "        if powerup_timer > 300:\n",
    "            generate_powerup()\n",
    "            powerup_timer = 0\n",
    "\n",
    "        # Draw everything\n",
    "        draw_player(player_x, player_y)\n",
    "        draw_bullets()\n",
    "        draw_enemies()\n",
    "        draw_asteroids()\n",
    "        draw_powerups()\n",
    "\n",
    "        # Display score and lives\n",
    "        draw_text(f\"Score: {score}\", FONT, WHITE, screen, SCREEN_WIDTH // 2, 30)\n",
    "        draw_text(f\"Lives: {lives}\", FONT, WHITE, screen, SCREEN_WIDTH // 2, 60)\n",
    "\n",
    "        # Check game over condition\n",
    "        if lives <= 0:\n",
    "            draw_text(\"GAME OVER!\", FONT, RED, screen, SCREEN_WIDTH // 2, SCREEN_HEIGHT // 2)\n",
    "            pygame.display.flip()\n",
    "            pygame.time.wait(3000)\n",
    "            pygame.quit()\n",
    "            sys.exit()\n",
    "\n",
    "        pygame.display.flip()\n",
    "        clock.tick(60)\n",
    "\n",
    "if __name__ == \"__main__\":\n",
    "    main()\n"
   ]
  },
  {
   "cell_type": "markdown",
   "id": "83f8d927",
   "metadata": {},
   "source": [
    "## Main Game Loop\n",
    "\n",
    "The `main()` function is the heart of the game. It handles the game flow, including input handling, updating game mechanics, drawing game elements, and checking for game-over conditions.\n",
    "\n",
    "### Main Game Loop Function\n",
    "```python\n",
    "def main():\n",
    "    global player_x, lives, level, score, bullets\n",
    "\n",
    "    # Timer for generating new enemies and obstacles\n",
    "    enemy_timer = 0\n",
    "    asteroid_timer = 0\n",
    "    powerup_timer = 0\n",
    "\n",
    "    while True:\n",
    "        screen.blit(background, (0, 0))\n",
    "\n",
    "        # Event handling\n",
    "        for event in pygame.event.get():\n",
    "            if event.type == pygame.QUIT:\n",
    "                pygame.quit()\n",
    "                sys.exit()\n",
    "\n",
    "        # Key press handling\n",
    "        keys = pygame.key.get_pressed()\n",
    "        if keys[pygame.K_LEFT] and player_x > 0:\n",
    "            player_x -= player_speed\n",
    "        if keys[pygame.K_RIGHT] and player_x < SCREEN_WIDTH - 50:\n",
    "            player_x += player_speed\n",
    "        if keys[pygame.K_SPACE]:\n",
    "            bullet = pygame.Rect(player_x + 20, player_y, 10, 20)\n",
    "            bullets.append(bullet)\n",
    "\n",
    "        # Game mechanics\n",
    "        move_bullets()\n",
    "        move_enemies()\n",
    "        move_asteroids()\n",
    "        move_powerups()\n",
    "\n",
    "        # Generate new enemies and obstacles\n",
    "        enemy_timer += 1\n",
    "        asteroid_timer += 1\n",
    "        powerup_timer += 1\n",
    "\n",
    "        if enemy_timer > 50:\n",
    "            generate_enemy()\n",
    "            enemy_timer = 0\n",
    "        if asteroid_timer > 150:\n",
    "            generate_asteroid()\n",
    "            asteroid_timer = 0\n",
    "        if powerup_timer > 300:\n",
    "            generate_powerup()\n",
    "            powerup_timer = 0\n",
    "\n",
    "        # Draw everything\n",
    "        draw_player(player_x, player_y)\n",
    "        draw_bullets()\n",
    "        draw_enemies()\n",
    "        draw_asteroids()\n",
    "        draw_powerups()\n",
    "\n",
    "        # Display score and lives\n",
    "        draw_text(f\"Score: {score}\", FONT, WHITE, screen, SCREEN_WIDTH // 2, 30)\n",
    "        draw_text(f\"Lives: {lives}\", FONT, WHITE, screen, SCREEN_WIDTH // 2, 60)\n",
    "\n",
    "        # Check game over condition\n",
    "        if lives <= 0:\n",
    "            draw_text(\"GAME OVER!\", FONT, RED, screen, SCREEN_WIDTH // 2, SCREEN_HEIGHT // 2)\n",
    "            pygame.display.flip()\n",
    "            pygame.time.wait(3000)\n",
    "            pygame.quit()\n",
    "            sys.exit()\n",
    "\n",
    "        pygame.display.flip()\n",
    "        clock.tick(60)\n",
    "\n",
    "if __name__ == \"__main__\":\n",
    "    main()\n"
   ]
  },
  {
   "cell_type": "markdown",
   "id": "1dbe5cf8",
   "metadata": {},
   "source": []
  }
 ],
 "metadata": {
  "kernelspec": {
   "display_name": "Python 3",
   "language": "python",
   "name": "python3"
  },
  "language_info": {
   "codemirror_mode": {
    "name": "ipython",
    "version": 3
   },
   "file_extension": ".py",
   "mimetype": "text/x-python",
   "name": "python",
   "nbconvert_exporter": "python",
   "pygments_lexer": "ipython3",
   "version": "3.11.9"
  }
 },
 "nbformat": 4,
 "nbformat_minor": 5
}
