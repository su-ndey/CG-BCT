{
 "cells": [
  {
   "cell_type": "markdown",
   "metadata": {},
   "source": [
    "Algorithm for Midpoint Circle\n",
    "\n",
    "Input --> r, center(Xc, Yc) // Where Xc & Yc is center of circle\n",
    "x = 0, y = r // Where r is radius\n",
    "points(p) = 1 - r\n",
    "list of octanes Xes = [], Yes = []\n",
    "Append first point (0, r) to the respective list\n",
    "& call symmetry function\n",
    "While x < y:\n",
    "x += 1\n",
    "if p < 0:\n",
    "p += 2x + 1\n",
    "if p >= 0:\n",
    "y += 1\n",
    "p += 2(x-y)+1\n",
    "call symmetry function\n",
    "\n",
    "symmetric point plotting function:\n",
    "append(x + Xc, y + Yc)\n",
    "append([\n",
    "-x, y\n",
    "-x, -y\n",
    "x, -y\n",
    "y, x\n",
    "-y, x\n",
    "y, -x\n",
    "-y, -x\n",
    "])"
   ]
  }
 ],
 "metadata": {
  "language_info": {
   "name": "python"
  }
 },
 "nbformat": 4,
 "nbformat_minor": 2
}
